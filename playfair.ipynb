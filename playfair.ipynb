{
  "nbformat": 4,
  "nbformat_minor": 0,
  "metadata": {
    "colab": {
      "provenance": [],
      "toc_visible": true,
      "authorship_tag": "ABX9TyOcJB5O7U4bgib8Rr34WKXJ",
      "include_colab_link": true
    },
    "kernelspec": {
      "name": "python3",
      "display_name": "Python 3"
    },
    "language_info": {
      "name": "python"
    }
  },
  "cells": [
    {
      "cell_type": "markdown",
      "metadata": {
        "id": "view-in-github",
        "colab_type": "text"
      },
      "source": [
        "<a href=\"https://colab.research.google.com/github/lavanyadp20/ins-/blob/main/playfair.ipynb\" target=\"_parent\"><img src=\"https://colab.research.google.com/assets/colab-badge.svg\" alt=\"Open In Colab\"/></a>"
      ]
    },
    {
      "cell_type": "code",
      "execution_count": 1,
      "metadata": {
        "id": "r7ilsRhFcyl_",
        "colab": {
          "base_uri": "https://localhost:8080/"
        },
        "outputId": "c4bc0186-dd0f-42c0-9381-d74e713d558a"
      },
      "outputs": [
        {
          "output_type": "stream",
          "name": "stdout",
          "text": [
            "Encrypted: PORDWP\n"
          ]
        }
      ],
      "source": [
        "def create_playfair_matrix(key):\n",
        "    alphabet = \"ABCDEFGHIKLMNOPQRSTUVWXYZ\"  # J is excluded\n",
        "    matrix = []\n",
        "    key = \"\".join(dict.fromkeys(key.upper().replace(\"J\", \"I\") + alphabet))  # Unique characters\n",
        "    for i in range(0, 25, 5):\n",
        "        matrix.append(list(key[i:i+5]))\n",
        "    return matrix\n",
        "\n",
        "def find_position(matrix, char):\n",
        "    for row in range(5):\n",
        "        for col in range(5):\n",
        "            if matrix[row][col] == char:\n",
        "                return row, col\n",
        "\n",
        "def playfair_encrypt(plaintext, key):\n",
        "    matrix = create_playfair_matrix(key)\n",
        "    plaintext = plaintext.upper().replace(\"J\", \"I\").replace(\" \", \"\")\n",
        "    if len(plaintext) % 2 != 0:\n",
        "        plaintext += \"X\"  # Padding for odd length\n",
        "\n",
        "    ciphertext = \"\"\n",
        "    for i in range(0, len(plaintext), 2):\n",
        "        a, b = plaintext[i], plaintext[i + 1]\n",
        "        row1, col1 = find_position(matrix, a)\n",
        "        row2, col2 = find_position(matrix, b)\n",
        "        if row1 == row2:\n",
        "            ciphertext += matrix[row1][(col1 + 1) % 5] + matrix[row2][(col2 + 1) % 5]\n",
        "        elif col1 == col2:\n",
        "            ciphertext += matrix[(row1 + 1) % 5][col1] + matrix[(row2 + 1) % 5][col2]\n",
        "        else:\n",
        "            ciphertext += matrix[row1][col2] + matrix[row2][col1]\n",
        "    return ciphertext\n",
        "\n",
        "# Example usage\n",
        "plaintext = \"SECRET\"\n",
        "key = \"HELLOWORLD\"\n",
        "print(\"Encrypted:\", playfair_encrypt(plaintext, key))\n"
      ]
    },
    {
      "cell_type": "code",
      "source": [],
      "metadata": {
        "id": "7C4dayAEwFmF"
      },
      "execution_count": null,
      "outputs": []
    }
  ]
}
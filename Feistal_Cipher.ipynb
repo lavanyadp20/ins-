{
  "nbformat": 4,
  "nbformat_minor": 0,
  "metadata": {
    "colab": {
      "provenance": [],
      "authorship_tag": "ABX9TyO55xK8LIjBIvw1qGUEmpq5",
      "include_colab_link": true
    },
    "kernelspec": {
      "name": "python3",
      "display_name": "Python 3"
    },
    "language_info": {
      "name": "python"
    }
  },
  "cells": [
    {
      "cell_type": "markdown",
      "metadata": {
        "id": "view-in-github",
        "colab_type": "text"
      },
      "source": [
        "<a href=\"https://colab.research.google.com/github/lavanyadp20/ins-/blob/main/Feistal_Cipher.ipynb\" target=\"_parent\"><img src=\"https://colab.research.google.com/assets/colab-badge.svg\" alt=\"Open In Colab\"/></a>"
      ]
    },
    {
      "cell_type": "code",
      "execution_count": 1,
      "metadata": {
        "colab": {
          "base_uri": "https://localhost:8080/"
        },
        "id": "99FY1jnz0_tj",
        "outputId": "55d45d32-68a0-41f9-e9fe-32550f0a7d51"
      },
      "outputs": [
        {
          "output_type": "stream",
          "name": "stdout",
          "text": [
            "Enter a string : information\n",
            "Result :  0110100101101110011001100110111101110010011011010110000101110100011010010110111101101110\n",
            "Enter a key : ise\n",
            "0110100101101110011001100110111101110010011011010110000101110100011010010110111101101110\n",
            "information\n"
          ]
        }
      ],
      "source": [
        "s = input(\"Enter a string : \")\n",
        "\n",
        "result = \"\".join(format(ord(i),'08b') for i in s)\n",
        "print(\"Result : \",result)\n",
        "\n",
        "l = int(len(result)/2)\n",
        "left = result[:l]\n",
        "right = result[l:]\n",
        "k = input(\"Enter a key : \")\n",
        "key = \"\".join(format(ord(i),'08b') for i in k)\n",
        "s = bin(int(right,2)+int(key,2))\n",
        "\n",
        "answer = bin(int(s[2:],2)^int(left,2))\n",
        "\n",
        "newr= answer[2:]\n",
        "newl = right\n",
        "newr,newl = newl,newr\n",
        "\n",
        "s= bin(int(newr,2)+int(key,2))\n",
        "ans = bin(int(s[2:],2) ^ int(newl,2))\n",
        "\n",
        "nl = newr\n",
        "nr = ans[2:]\n",
        "nl,nr = nr,nl\n",
        "cipher = nl+nr\n",
        "\n",
        "if(len(cipher)!=len(result)):\n",
        "      while(len(cipher)!=len(result)):\n",
        "            cipher=\"0\"+cipher\n",
        "            print(cipher)\n",
        "            plainText = \"\"\n",
        "\n",
        "for i in range(0,len(cipher),8):\n",
        "           temp = cipher[i:i+8]\n",
        "           d = int(temp,2)\n",
        "           plainText=plainText+chr(d)\n",
        "print(plainText)\n"
      ]
    },
    {
      "cell_type": "code",
      "source": [],
      "metadata": {
        "id": "7-sFNQMq1GXz"
      },
      "execution_count": null,
      "outputs": []
    }
  ]
}
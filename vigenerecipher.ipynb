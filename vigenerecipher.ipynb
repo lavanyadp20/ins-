{
  "nbformat": 4,
  "nbformat_minor": 0,
  "metadata": {
    "colab": {
      "provenance": [],
      "authorship_tag": "ABX9TyOynwEWxYNb1ksC5vhUIzIO",
      "include_colab_link": true
    },
    "kernelspec": {
      "name": "python3",
      "display_name": "Python 3"
    },
    "language_info": {
      "name": "python"
    }
  },
  "cells": [
    {
      "cell_type": "markdown",
      "metadata": {
        "id": "view-in-github",
        "colab_type": "text"
      },
      "source": [
        "<a href=\"https://colab.research.google.com/github/lavanyadp20/ins-/blob/main/vigenerecipher.ipynb\" target=\"_parent\"><img src=\"https://colab.research.google.com/assets/colab-badge.svg\" alt=\"Open In Colab\"/></a>"
      ]
    },
    {
      "cell_type": "code",
      "execution_count": 1,
      "metadata": {
        "colab": {
          "base_uri": "https://localhost:8080/"
        },
        "id": "StN2Zy-6spWX",
        "outputId": "0467abcd-1947-4654-bb36-d9790e98d32a"
      },
      "outputs": [
        {
          "output_type": "stream",
          "name": "stdout",
          "text": [
            "Ciphertext: RIJVS\n",
            "Decrypted: HELLO\n"
          ]
        }
      ],
      "source": [
        "def vigenere(text, key, decrypt=False):\n",
        "    key = (key * (len(text) // len(key) + 1))[:len(text)]\n",
        "    shift = -1 if decrypt else 1\n",
        "    return ''.join(chr((ord(c) - 65 + shift * (ord(k) - 65)) % 26 + 65) if c.isalpha() else c for c, k in zip(text.upper(), key.upper()))\n",
        "\n",
        "# Example Usage\n",
        "plaintext = \"HELLO\"\n",
        "key = \"KEY\"\n",
        "ciphertext = vigenere(plaintext, key)\n",
        "decrypted = vigenere(ciphertext, key, decrypt=True)\n",
        "\n",
        "print(\"Ciphertext:\", ciphertext)\n",
        "print(\"Decrypted:\", decrypted)\n"
      ]
    },
    {
      "cell_type": "code",
      "source": [],
      "metadata": {
        "id": "0ONdqNOusqCH"
      },
      "execution_count": null,
      "outputs": []
    }
  ]
}
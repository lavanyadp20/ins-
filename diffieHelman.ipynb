{
  "nbformat": 4,
  "nbformat_minor": 0,
  "metadata": {
    "colab": {
      "provenance": [],
      "authorship_tag": "ABX9TyPsGZIp/htCgVDQ/OsMUzNL",
      "include_colab_link": true
    },
    "kernelspec": {
      "name": "python3",
      "display_name": "Python 3"
    },
    "language_info": {
      "name": "python"
    }
  },
  "cells": [
    {
      "cell_type": "markdown",
      "metadata": {
        "id": "view-in-github",
        "colab_type": "text"
      },
      "source": [
        "<a href=\"https://colab.research.google.com/github/lavanyadp20/ins-/blob/main/diffieHelman.ipynb\" target=\"_parent\"><img src=\"https://colab.research.google.com/assets/colab-badge.svg\" alt=\"Open In Colab\"/></a>"
      ]
    },
    {
      "cell_type": "code",
      "execution_count": 1,
      "metadata": {
        "colab": {
          "base_uri": "https://localhost:8080/"
        },
        "id": "-KqBE0rSGMSn",
        "outputId": "d59d6f12-f20c-42aa-f80d-df4a3094a2cb"
      },
      "outputs": [
        {
          "output_type": "stream",
          "name": "stdout",
          "text": [
            "Enter a prime number : 17\n",
            "Enter a primitive root :7\n",
            "Enter the private key of A :18\n",
            "Enter the private key of B : 30\n",
            "Public key of A :  15.0\n",
            "Public key of B :  6.0\n",
            "Shared key for A :  2.0\n",
            "Shared key for B :  13.0\n"
          ]
        }
      ],
      "source": [
        "\n",
        " import math\n",
        " q = int(input(\"Enter a prime number : \"))\n",
        " a = int(input(\"Enter a primitive root :\"))\n",
        " Xa = int(input(\"Enter the private key of A :\"))\n",
        " Xb = int(input(\"Enter the private key of B : \"))\n",
        " Ya = math.pow(a, Xa) % q\n",
        " Yb = math.pow(a, Xb) % q\n",
        " print(\"Public key of A : \",Ya)\n",
        " print(\"Public key of B : \",Yb)\n",
        " Ka = math.pow(Yb,Xa)%q\n",
        " Kb = math.pow(Ya,Xb)%q\n",
        " print(\"Shared key for A : \",Ka)\n",
        " print(\"Shared key for B : \",Kb)\n",
        ""
      ]
    },
    {
      "cell_type": "code",
      "source": [],
      "metadata": {
        "id": "ICR9YAULGNwK"
      },
      "execution_count": null,
      "outputs": []
    }
  ]
}
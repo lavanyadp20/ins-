{
  "nbformat": 4,
  "nbformat_minor": 0,
  "metadata": {
    "colab": {
      "provenance": [],
      "authorship_tag": "ABX9TyNsu7JMUU9qayj7HDgJwgDZ",
      "include_colab_link": true
    },
    "kernelspec": {
      "name": "python3",
      "display_name": "Python 3"
    },
    "language_info": {
      "name": "python"
    }
  },
  "cells": [
    {
      "cell_type": "markdown",
      "metadata": {
        "id": "view-in-github",
        "colab_type": "text"
      },
      "source": [
        "<a href=\"https://colab.research.google.com/github/lavanyadp20/ins-/blob/main/des.ipynb\" target=\"_parent\"><img src=\"https://colab.research.google.com/assets/colab-badge.svg\" alt=\"Open In Colab\"/></a>"
      ]
    },
    {
      "cell_type": "code",
      "execution_count": 2,
      "metadata": {
        "colab": {
          "base_uri": "https://localhost:8080/"
        },
        "id": "5w8yyrkbDgQM",
        "outputId": "bccf97b7-f2bf-4940-e780-6992b3fe0319"
      },
      "outputs": [
        {
          "output_type": "stream",
          "name": "stdout",
          "text": [
            "Enter a string : attack\n",
            "Key  1  =  0000110011010110000011110001110100\n",
            "Key  2  =  0001100111101011000011110111101000\n",
            "Key  3  =  1100111101110000011110001111000000\n",
            "Key  4  =  1000110101000001110100111010000000\n",
            "Key  5  =  1000011001111010110000111010111000\n",
            "Key  6  =  0001111010110000001110111010000000\n",
            "Key  7  =  0100011111010000011101001110000000\n",
            "Key  8  =  0011101011000000001010011100000000\n"
          ]
        }
      ],
      "source": [
        "import random\n",
        "\n",
        "s = input(\"Enter a string : \")\n",
        "result = ''.join(format(ord(i),'08b') for i in s)\n",
        "answer = \"\"\n",
        "\n",
        "for i in range(len(result)):\n",
        "    if(i%8!=0):\n",
        "      answer+=result[i]\n",
        "\n",
        "l = int(len(answer)/2)\n",
        "left = answer[:l]\n",
        "right = answer[l:]\n",
        "lt = [2,3,6,7,1,6,5,9]\n",
        "keys = []\n",
        "\n",
        "for i in range(0,8):\n",
        "  newKey = \"\"\n",
        "  newAnswer = \"\"\n",
        "\n",
        "  nl=int(left,2)\n",
        "  nl=bin(nl<<lt[i])\n",
        "  num=2+lt[i]\n",
        "\n",
        "  nr = int(right,2)\n",
        "  nr = bin(nr<<lt[i])\n",
        "  num=2+lt[i]\n",
        "\n",
        "  newKey = nr[num:]+nl[num:]\n",
        "  rm =[]\n",
        "\n",
        "  while(len(rm)!= 8):\n",
        "    r = random.randint(0,len(newKey)-1)\n",
        "\n",
        "    if(r not in rm):\n",
        "      rm.append(r)\n",
        "\n",
        "  for i in range(len(newKey)):\n",
        "    if(i not in rm):\n",
        "      newAnswer+=newKey[i]\n",
        "\n",
        "  keys.append(newAnswer)\n",
        "\n",
        "for i in range(0,len(keys)):\n",
        "    print(\"Key \",i+1,\" = \",keys[i])"
      ]
    },
    {
      "cell_type": "code",
      "source": [],
      "metadata": {
        "id": "UNNpEj6rDiBf"
      },
      "execution_count": 2,
      "outputs": []
    }
  ]
}